{
 "cells": [
  {
   "cell_type": "code",
   "execution_count": null,
   "id": "1f6df4e6",
   "metadata": {},
   "outputs": [],
   "source": [
    "%pip install git+https://github.com/jstmn/ikflow.git"
   ]
  },
  {
   "cell_type": "code",
   "execution_count": null,
   "id": "f5bb7239",
   "metadata": {},
   "outputs": [],
   "source": [
    "# 2. Load ARKOMA data (no Streamlit)\n",
    "def load_data():\n",
    "    base = \"/content/drive/MyDrive/ARKOMA_LeftArmDataset\"\n",
    "    df_LTrain_x = pd.read_csv(f\"{base}/LTrain_x.csv\")\n",
    "    df_LTrain_y = pd.read_csv(f\"{base}/LTrain_y.csv\")\n",
    "    df_LVal_x   = pd.read_csv(f\"{base}/LVal_x.csv\")\n",
    "    df_LVal_y   = pd.read_csv(f\"{base}/LVal_y.csv\")\n",
    "    df_LTest_x  = pd.read_csv(f\"{base}/LTest_x.csv\")\n",
    "    df_LTest_y  = pd.read_csv(f\"{base}/LTest_y.csv\")\n",
    "    return df_LTrain_x, df_LTrain_y, df_LVal_x, df_LVal_y, df_LTest_x, df_LTest_y\n",
    "\n",
    "df_LTrain_x, df_LTrain_y, df_LVal_x, df_LVal_y, df_LTest_x, df_LTest_y = load_data()\n",
    "\n",
    "print(\"Train X shape:\", df_LTrain_x.shape)\n",
    "print(\"Train Y shape:\", df_LTrain_y.shape)\n",
    "print(\"Val X shape:  \", df_LVal_x.shape)\n",
    "print(\"Val Y shape:  \", df_LVal_y.shape)\n",
    "print(\"Test X shape: \", df_LTest_x.shape)\n",
    "print(\"Test Y shape: \", df_LTest_y.shape)\n",
    "\n",
    "# 3. Extract numpy arrays\n",
    "X_train, y_train = df_LTrain_x.values, df_LTrain_y.values\n",
    "X_val,   y_val   = df_LVal_x.values,   df_LVal_y.values\n",
    "X_test,  y_test  = df_LTest_x.values,  df_LTest_y.values\n",
    "\n",
    "# 4. Scale data\n",
    "scaler_X = StandardScaler()\n",
    "scaler_y = StandardScaler()\n",
    "\n",
    "X_train_scaled = scaler_X.fit_transform(X_train)\n",
    "X_val_scaled   = scaler_X.transform(X_val)\n",
    "X_test_scaled  = scaler_X.transform(X_test)\n",
    "\n",
    "y_train_scaled = scaler_y.fit_transform(y_train)\n",
    "y_val_scaled   = scaler_y.transform(y_val)\n",
    "y_test_scaled  = scaler_y.transform(y_test)\n",
    "\n",
    "print(\"Sample normalized input:\", X_train_scaled[0])\n",
    "print(\"Sample normalized output:\", y_train_scaled[0])"
   ]
  },
  {
   "cell_type": "code",
   "execution_count": null,
   "id": "935fef21",
   "metadata": {},
   "outputs": [],
   "source": []
  }
 ],
 "metadata": {
  "kernelspec": {
   "display_name": "Python 3",
   "language": "python",
   "name": "python3"
  },
  "language_info": {
   "codemirror_mode": {
    "name": "ipython",
    "version": 3
   },
   "file_extension": ".py",
   "mimetype": "text/x-python",
   "name": "python",
   "nbconvert_exporter": "python",
   "pygments_lexer": "ipython3",
   "version": "3.8.10"
  }
 },
 "nbformat": 4,
 "nbformat_minor": 5
}
